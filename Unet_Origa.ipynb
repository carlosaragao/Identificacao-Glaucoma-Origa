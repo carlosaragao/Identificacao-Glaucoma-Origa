{
  "nbformat": 4,
  "nbformat_minor": 0,
  "metadata": {
    "colab": {
      "provenance": [],
      "authorship_tag": "ABX9TyPN88GLUpQpu3oBGvrh4iYG",
      "include_colab_link": true
    },
    "kernelspec": {
      "name": "python3",
      "display_name": "Python 3"
    },
    "language_info": {
      "name": "python"
    },
    "accelerator": "GPU",
    "gpuClass": "standard"
  },
  "cells": [
    {
      "cell_type": "markdown",
      "metadata": {
        "id": "view-in-github",
        "colab_type": "text"
      },
      "source": [
        "<a href=\"https://colab.research.google.com/github/carlosheadst/Identificacao-Glaucoma-Origa/blob/main/Unet_Origa.ipynb\" target=\"_parent\"><img src=\"https://colab.research.google.com/assets/colab-badge.svg\" alt=\"Open In Colab\"/></a>"
      ]
    },
    {
      "cell_type": "markdown",
      "source": [
        "## Conectar com drive"
      ],
      "metadata": {
        "id": "JaEpz52seXX0"
      }
    },
    {
      "cell_type": "code",
      "source": [
        "from google.colab import drive\n",
        "drive.mount('/content/drive')"
      ],
      "metadata": {
        "colab": {
          "base_uri": "https://localhost:8080/"
        },
        "id": "1J0c0xnheWZ7",
        "outputId": "99c8e6ad-7526-43f6-a6b3-fc7e8a6e76ae"
      },
      "execution_count": 1,
      "outputs": [
        {
          "output_type": "stream",
          "name": "stdout",
          "text": [
            "Mounted at /content/drive\n"
          ]
        }
      ]
    },
    {
      "cell_type": "markdown",
      "source": [
        "## Imports"
      ],
      "metadata": {
        "id": "c6OXt2yIdBEm"
      }
    },
    {
      "cell_type": "code",
      "execution_count": 28,
      "metadata": {
        "id": "vAaYxCxac-qY"
      },
      "outputs": [],
      "source": [
        "import os\n",
        "import numpy as np\n",
        "import pandas as pd\n",
        "from PIL import Image\n",
        "from sklearn.model_selection import train_test_split\n",
        "\n",
        "import tensorflow as tf\n",
        "from tensorflow.keras import layers\n",
        "\n",
        "import matplotlib.pyplot as plt"
      ]
    },
    {
      "cell_type": "code",
      "source": [
        "# Carregar o arquivo CSV\n",
        "origa_list = pd.read_csv('/content/drive/MyDrive/ORIGA/OrigaList.csv')"
      ],
      "metadata": {
        "id": "yS3S19o2ecck"
      },
      "execution_count": 3,
      "outputs": []
    },
    {
      "cell_type": "code",
      "source": [
        "origa_list.head()"
      ],
      "metadata": {
        "colab": {
          "base_uri": "https://localhost:8080/",
          "height": 206
        },
        "id": "OBmDseCfevPC",
        "outputId": "071bf0b4-5106-40c5-da0f-d79dc3f32a7d"
      },
      "execution_count": 4,
      "outputs": [
        {
          "output_type": "execute_result",
          "data": {
            "text/plain": [
              "  Eye Filename  ExpCDR Set  Glaucoma\n",
              "0  OD  001.jpg  0.7097   A         0\n",
              "1  OS  002.jpg  0.6953   A         0\n",
              "2  OS  003.jpg  0.9629   A         0\n",
              "3  OD  004.jpg  0.7246   A         0\n",
              "4  OS  005.jpg  0.6138   A         0"
            ],
            "text/html": [
              "\n",
              "  <div id=\"df-92361245-f7bc-4a00-b6e3-55a0b64b00f5\">\n",
              "    <div class=\"colab-df-container\">\n",
              "      <div>\n",
              "<style scoped>\n",
              "    .dataframe tbody tr th:only-of-type {\n",
              "        vertical-align: middle;\n",
              "    }\n",
              "\n",
              "    .dataframe tbody tr th {\n",
              "        vertical-align: top;\n",
              "    }\n",
              "\n",
              "    .dataframe thead th {\n",
              "        text-align: right;\n",
              "    }\n",
              "</style>\n",
              "<table border=\"1\" class=\"dataframe\">\n",
              "  <thead>\n",
              "    <tr style=\"text-align: right;\">\n",
              "      <th></th>\n",
              "      <th>Eye</th>\n",
              "      <th>Filename</th>\n",
              "      <th>ExpCDR</th>\n",
              "      <th>Set</th>\n",
              "      <th>Glaucoma</th>\n",
              "    </tr>\n",
              "  </thead>\n",
              "  <tbody>\n",
              "    <tr>\n",
              "      <th>0</th>\n",
              "      <td>OD</td>\n",
              "      <td>001.jpg</td>\n",
              "      <td>0.7097</td>\n",
              "      <td>A</td>\n",
              "      <td>0</td>\n",
              "    </tr>\n",
              "    <tr>\n",
              "      <th>1</th>\n",
              "      <td>OS</td>\n",
              "      <td>002.jpg</td>\n",
              "      <td>0.6953</td>\n",
              "      <td>A</td>\n",
              "      <td>0</td>\n",
              "    </tr>\n",
              "    <tr>\n",
              "      <th>2</th>\n",
              "      <td>OS</td>\n",
              "      <td>003.jpg</td>\n",
              "      <td>0.9629</td>\n",
              "      <td>A</td>\n",
              "      <td>0</td>\n",
              "    </tr>\n",
              "    <tr>\n",
              "      <th>3</th>\n",
              "      <td>OD</td>\n",
              "      <td>004.jpg</td>\n",
              "      <td>0.7246</td>\n",
              "      <td>A</td>\n",
              "      <td>0</td>\n",
              "    </tr>\n",
              "    <tr>\n",
              "      <th>4</th>\n",
              "      <td>OS</td>\n",
              "      <td>005.jpg</td>\n",
              "      <td>0.6138</td>\n",
              "      <td>A</td>\n",
              "      <td>0</td>\n",
              "    </tr>\n",
              "  </tbody>\n",
              "</table>\n",
              "</div>\n",
              "      <button class=\"colab-df-convert\" onclick=\"convertToInteractive('df-92361245-f7bc-4a00-b6e3-55a0b64b00f5')\"\n",
              "              title=\"Convert this dataframe to an interactive table.\"\n",
              "              style=\"display:none;\">\n",
              "        \n",
              "  <svg xmlns=\"http://www.w3.org/2000/svg\" height=\"24px\"viewBox=\"0 0 24 24\"\n",
              "       width=\"24px\">\n",
              "    <path d=\"M0 0h24v24H0V0z\" fill=\"none\"/>\n",
              "    <path d=\"M18.56 5.44l.94 2.06.94-2.06 2.06-.94-2.06-.94-.94-2.06-.94 2.06-2.06.94zm-11 1L8.5 8.5l.94-2.06 2.06-.94-2.06-.94L8.5 2.5l-.94 2.06-2.06.94zm10 10l.94 2.06.94-2.06 2.06-.94-2.06-.94-.94-2.06-.94 2.06-2.06.94z\"/><path d=\"M17.41 7.96l-1.37-1.37c-.4-.4-.92-.59-1.43-.59-.52 0-1.04.2-1.43.59L10.3 9.45l-7.72 7.72c-.78.78-.78 2.05 0 2.83L4 21.41c.39.39.9.59 1.41.59.51 0 1.02-.2 1.41-.59l7.78-7.78 2.81-2.81c.8-.78.8-2.07 0-2.86zM5.41 20L4 18.59l7.72-7.72 1.47 1.35L5.41 20z\"/>\n",
              "  </svg>\n",
              "      </button>\n",
              "      \n",
              "  <style>\n",
              "    .colab-df-container {\n",
              "      display:flex;\n",
              "      flex-wrap:wrap;\n",
              "      gap: 12px;\n",
              "    }\n",
              "\n",
              "    .colab-df-convert {\n",
              "      background-color: #E8F0FE;\n",
              "      border: none;\n",
              "      border-radius: 50%;\n",
              "      cursor: pointer;\n",
              "      display: none;\n",
              "      fill: #1967D2;\n",
              "      height: 32px;\n",
              "      padding: 0 0 0 0;\n",
              "      width: 32px;\n",
              "    }\n",
              "\n",
              "    .colab-df-convert:hover {\n",
              "      background-color: #E2EBFA;\n",
              "      box-shadow: 0px 1px 2px rgba(60, 64, 67, 0.3), 0px 1px 3px 1px rgba(60, 64, 67, 0.15);\n",
              "      fill: #174EA6;\n",
              "    }\n",
              "\n",
              "    [theme=dark] .colab-df-convert {\n",
              "      background-color: #3B4455;\n",
              "      fill: #D2E3FC;\n",
              "    }\n",
              "\n",
              "    [theme=dark] .colab-df-convert:hover {\n",
              "      background-color: #434B5C;\n",
              "      box-shadow: 0px 1px 3px 1px rgba(0, 0, 0, 0.15);\n",
              "      filter: drop-shadow(0px 1px 2px rgba(0, 0, 0, 0.3));\n",
              "      fill: #FFFFFF;\n",
              "    }\n",
              "  </style>\n",
              "\n",
              "      <script>\n",
              "        const buttonEl =\n",
              "          document.querySelector('#df-92361245-f7bc-4a00-b6e3-55a0b64b00f5 button.colab-df-convert');\n",
              "        buttonEl.style.display =\n",
              "          google.colab.kernel.accessAllowed ? 'block' : 'none';\n",
              "\n",
              "        async function convertToInteractive(key) {\n",
              "          const element = document.querySelector('#df-92361245-f7bc-4a00-b6e3-55a0b64b00f5');\n",
              "          const dataTable =\n",
              "            await google.colab.kernel.invokeFunction('convertToInteractive',\n",
              "                                                     [key], {});\n",
              "          if (!dataTable) return;\n",
              "\n",
              "          const docLinkHtml = 'Like what you see? Visit the ' +\n",
              "            '<a target=\"_blank\" href=https://colab.research.google.com/notebooks/data_table.ipynb>data table notebook</a>'\n",
              "            + ' to learn more about interactive tables.';\n",
              "          element.innerHTML = '';\n",
              "          dataTable['output_type'] = 'display_data';\n",
              "          await google.colab.output.renderOutput(dataTable, element);\n",
              "          const docLink = document.createElement('div');\n",
              "          docLink.innerHTML = docLinkHtml;\n",
              "          element.appendChild(docLink);\n",
              "        }\n",
              "      </script>\n",
              "    </div>\n",
              "  </div>\n",
              "  "
            ]
          },
          "metadata": {},
          "execution_count": 4
        }
      ]
    },
    {
      "cell_type": "code",
      "source": [
        "# Dividir o conjunto de dados em treinamento e validação (80% treinamento, 20% validação)\n",
        "train_df, val_df = train_test_split(origa_list, test_size=0.2, random_state=42, stratify=origa_list['Glaucoma'])"
      ],
      "metadata": {
        "id": "S7WJ6Im4eh9R"
      },
      "execution_count": 12,
      "outputs": []
    },
    {
      "cell_type": "code",
      "source": [
        "# Função para carregar e pré-processar as imagens e máscaras\n",
        "def load_and_preprocess_images(df, img_path, mask_path):\n",
        "    img_list = []\n",
        "    mask_list = []\n",
        "\n",
        "    for _, row in df.iterrows():\n",
        "        # Carregar a imagem e a máscara\n",
        "        img = Image.open(os.path.join(img_path, row[\"Filename\"]))\n",
        "        mask_filename = os.path.splitext(row[\"Filename\"])[0] + \".png\"  # Converter a extensão do arquivo para .png\n",
        "        mask = Image.open(os.path.join(mask_path, mask_filename))\n",
        "\n",
        "        # Redimensionar as imagens e máscaras para as dimensões desejadas (128x128, por exemplo)\n",
        "        img = img.resize((128, 128))\n",
        "        mask = mask.resize((128, 128))\n",
        "\n",
        "        # Converter as imagens e máscaras para arrays numpy e normalizar os valores\n",
        "        img_array = np.array(img) / 255.0\n",
        "        mask_array = np.array(mask) / 255.0\n",
        "\n",
        "        img_list.append(img_array)\n",
        "        mask_list.append(mask_array)\n",
        "\n",
        "    return np.array(img_list), np.array(mask_list)"
      ],
      "metadata": {
        "id": "p2dgmY7ee8fy"
      },
      "execution_count": 13,
      "outputs": []
    },
    {
      "cell_type": "code",
      "source": [
        "# Caminho dos arquivos\n",
        "path_images = '/content/drive/MyDrive/ORIGA/Images'\n",
        "path_masks = '/content/drive/MyDrive/ORIGA/Masks'"
      ],
      "metadata": {
        "id": "cx3qx9tIfZYV"
      },
      "execution_count": 14,
      "outputs": []
    },
    {
      "cell_type": "code",
      "source": [
        "# Carregar e pré-processar as imagens e máscaras de treinamento e validação\n",
        "train_imgs, train_masks = load_and_preprocess_images(train_df, path_images, path_masks)\n",
        "val_imgs, val_masks = load_and_preprocess_images(val_df, path_images, path_masks)"
      ],
      "metadata": {
        "id": "9IKAb0OZfDI5"
      },
      "execution_count": 15,
      "outputs": []
    },
    {
      "cell_type": "markdown",
      "source": [
        "## Definindo arquitetura U-NET"
      ],
      "metadata": {
        "id": "RkYonOvClV88"
      }
    },
    {
      "cell_type": "code",
      "source": [
        "def build_unet(input_shape):\n",
        "    inputs = layers.Input(input_shape)\n",
        "\n",
        "    # Contração (encoder)\n",
        "    c1 = layers.Conv2D(32, (3, 3), activation=\"relu\", padding=\"same\")(inputs)\n",
        "    c1 = layers.Conv2D(32, (3, 3), activation=\"relu\", padding=\"same\")(c1)\n",
        "    p1 = layers.MaxPooling2D((2, 2))(c1)\n",
        "\n",
        "    c2 = layers.Conv2D(64, (3, 3), activation=\"relu\", padding=\"same\")(p1)\n",
        "    c2 = layers.Conv2D(64, (3, 3), activation=\"relu\", padding=\"same\")(c2)\n",
        "    p2 = layers.MaxPooling2D((2, 2))(c2)\n",
        "\n",
        "    c3 = layers.Conv2D(128, (3, 3), activation=\"relu\", padding=\"same\")(p2)\n",
        "    c3 = layers.Conv2D(128, (3, 3), activation=\"relu\", padding=\"same\")(c3)\n",
        "    p3 = layers.MaxPooling2D((2, 2))(c3)\n",
        "\n",
        "    c4 = layers.Conv2D(256, (3, 3), activation=\"relu\", padding=\"same\")(p3)\n",
        "    c4 = layers.Conv2D(256, (3, 3), activation=\"relu\", padding=\"same\")(c4)\n",
        "    p4 = layers.MaxPooling2D((2, 2))(c4)\n",
        "\n",
        "    c5 = layers.Conv2D(512, (3, 3), activation=\"relu\", padding=\"same\")(p4)\n",
        "    c5 = layers.Conv2D(512, (3, 3), activation=\"relu\", padding=\"same\")(c5)\n",
        "\n",
        "    # Expansão (decoder)\n",
        "    u6 = layers.Conv2DTranspose(256, (2, 2), strides=(2, 2), padding=\"same\")(c5)\n",
        "    u6 = layers.concatenate([u6, c4])\n",
        "    c6 = layers.Conv2D(256, (3, 3), activation=\"relu\", padding=\"same\")(u6)\n",
        "    c6 = layers.Conv2D(256, (3, 3), activation=\"relu\", padding=\"same\")(c6)\n",
        "\n",
        "    u7 = layers.Conv2DTranspose(128, (2, 2), strides=(2, 2), padding=\"same\")(c6)\n",
        "    u7 = layers.concatenate([u7, c3])\n",
        "    c7 = layers.Conv2D(128, (3, 3), activation=\"relu\", padding=\"same\")(u7)\n",
        "    c7 = layers.Conv2D(128, (3, 3), activation=\"relu\", padding=\"same\")(c7)\n",
        "\n",
        "    u8 = layers.Conv2DTranspose(64, (2, 2), strides=(2, 2), padding=\"same\")(c7)\n",
        "    u8 = layers.concatenate([u8, c2])\n",
        "    c8 = layers.Conv2D(64, (3, 3), activation=\"relu\", padding=\"same\")(u8)\n",
        "    c8 = layers.Conv2D(64, (3, 3), activation=\"relu\", padding=\"same\")(c8)\n",
        "\n",
        "    u9 = layers.Conv2DTranspose(32, (2, 2), strides=(2, 2), padding=\"same\")(c8)\n",
        "    u9 = layers.concatenate([u9, c1])\n",
        "    c9 = layers.Conv2D(32, (3, 3), activation=\"relu\", padding=\"same\")(u9)\n",
        "    c9 = layers.Conv2D(32, (3, 3), activation=\"relu\", padding=\"same\")(c9)\n",
        "\n",
        "    # Camada de saída\n",
        "    outputs = layers.Conv2D(1, (1, 1), activation=\"sigmoid\")(c9)\n",
        "\n",
        "    model = tf.keras.Model(inputs=[inputs], outputs=[outputs])\n",
        "\n",
        "    return model"
      ],
      "metadata": {
        "id": "kvaFzOjJkusg"
      },
      "execution_count": 17,
      "outputs": []
    },
    {
      "cell_type": "code",
      "source": [
        "# Parâmetros do modelo\n",
        "input_shape = (128, 128, 3)\n",
        "\n",
        "# Construir e compilar o modelo U-Net\n",
        "unet = build_unet(input_shape)\n",
        "unet.compile(optimizer=\"adam\", loss=\"binary_crossentropy\", metrics=[\"accuracy\"])"
      ],
      "metadata": {
        "id": "9uzXqnIDk7lX"
      },
      "execution_count": 18,
      "outputs": []
    },
    {
      "cell_type": "code",
      "source": [
        "# Treinar o modelo U-Net\n",
        "history = unet.fit(train_imgs, train_masks, validation_data=(val_imgs, val_masks), epochs=50, batch_size=32)"
      ],
      "metadata": {
        "colab": {
          "base_uri": "https://localhost:8080/"
        },
        "id": "10kyQoQkk5tK",
        "outputId": "7fbd73a1-7330-4e94-8466-0af5d2e30970"
      },
      "execution_count": 19,
      "outputs": [
        {
          "output_type": "stream",
          "name": "stdout",
          "text": [
            "Epoch 1/50\n",
            "17/17 [==============================] - 38s 672ms/step - loss: 0.1932 - accuracy: 0.9227 - val_loss: 0.0016 - val_accuracy: 0.9803\n",
            "Epoch 2/50\n",
            "17/17 [==============================] - 2s 144ms/step - loss: 0.0016 - accuracy: 0.9803 - val_loss: 0.0016 - val_accuracy: 0.9803\n",
            "Epoch 3/50\n",
            "17/17 [==============================] - 3s 202ms/step - loss: 0.0016 - accuracy: 0.9803 - val_loss: 0.0016 - val_accuracy: 0.9803\n",
            "Epoch 4/50\n",
            "17/17 [==============================] - 3s 152ms/step - loss: 0.0016 - accuracy: 0.9803 - val_loss: 0.0016 - val_accuracy: 0.9803\n",
            "Epoch 5/50\n",
            "17/17 [==============================] - 3s 211ms/step - loss: 0.0016 - accuracy: 0.9803 - val_loss: 0.0016 - val_accuracy: 0.9803\n",
            "Epoch 6/50\n",
            "17/17 [==============================] - 4s 213ms/step - loss: 0.0016 - accuracy: 0.9803 - val_loss: 0.0016 - val_accuracy: 0.9803\n",
            "Epoch 7/50\n",
            "17/17 [==============================] - 3s 204ms/step - loss: 0.0016 - accuracy: 0.9803 - val_loss: 0.0016 - val_accuracy: 0.9803\n",
            "Epoch 8/50\n",
            "17/17 [==============================] - 3s 165ms/step - loss: 0.0016 - accuracy: 0.9803 - val_loss: 0.0016 - val_accuracy: 0.9803\n",
            "Epoch 9/50\n",
            "17/17 [==============================] - 4s 248ms/step - loss: 0.0016 - accuracy: 0.9803 - val_loss: 0.0016 - val_accuracy: 0.9803\n",
            "Epoch 10/50\n",
            "17/17 [==============================] - 3s 168ms/step - loss: 0.0016 - accuracy: 0.9803 - val_loss: 0.0016 - val_accuracy: 0.9803\n",
            "Epoch 11/50\n",
            "17/17 [==============================] - 4s 255ms/step - loss: 0.0016 - accuracy: 0.9803 - val_loss: 0.0016 - val_accuracy: 0.9803\n",
            "Epoch 12/50\n",
            "17/17 [==============================] - 4s 212ms/step - loss: 0.0016 - accuracy: 0.9803 - val_loss: 0.0016 - val_accuracy: 0.9803\n",
            "Epoch 13/50\n",
            "17/17 [==============================] - 4s 224ms/step - loss: 0.0016 - accuracy: 0.9803 - val_loss: 0.0016 - val_accuracy: 0.9803\n",
            "Epoch 14/50\n",
            "17/17 [==============================] - 3s 198ms/step - loss: 0.0016 - accuracy: 0.9803 - val_loss: 0.0016 - val_accuracy: 0.9803\n",
            "Epoch 15/50\n",
            "17/17 [==============================] - 3s 202ms/step - loss: 0.0016 - accuracy: 0.9803 - val_loss: 0.0016 - val_accuracy: 0.9803\n",
            "Epoch 16/50\n",
            "17/17 [==============================] - 4s 251ms/step - loss: 0.0016 - accuracy: 0.9803 - val_loss: 0.0016 - val_accuracy: 0.9803\n",
            "Epoch 17/50\n",
            "17/17 [==============================] - 4s 221ms/step - loss: 0.0016 - accuracy: 0.9803 - val_loss: 0.0016 - val_accuracy: 0.9803\n",
            "Epoch 18/50\n",
            "17/17 [==============================] - 3s 210ms/step - loss: 0.0016 - accuracy: 0.9803 - val_loss: 0.0016 - val_accuracy: 0.9803\n",
            "Epoch 19/50\n",
            "17/17 [==============================] - 3s 167ms/step - loss: 0.0016 - accuracy: 0.9803 - val_loss: 0.0016 - val_accuracy: 0.9803\n",
            "Epoch 20/50\n",
            "17/17 [==============================] - 4s 272ms/step - loss: 0.0016 - accuracy: 0.9803 - val_loss: 0.0016 - val_accuracy: 0.9803\n",
            "Epoch 21/50\n",
            "17/17 [==============================] - 4s 256ms/step - loss: 0.0016 - accuracy: 0.9803 - val_loss: 0.0016 - val_accuracy: 0.9803\n",
            "Epoch 22/50\n",
            "17/17 [==============================] - 4s 261ms/step - loss: 0.0016 - accuracy: 0.9803 - val_loss: 0.0016 - val_accuracy: 0.9803\n",
            "Epoch 23/50\n",
            "17/17 [==============================] - 3s 201ms/step - loss: 0.0016 - accuracy: 0.9803 - val_loss: 0.0016 - val_accuracy: 0.9803\n",
            "Epoch 24/50\n",
            "17/17 [==============================] - 4s 229ms/step - loss: 0.0016 - accuracy: 0.9803 - val_loss: 0.0016 - val_accuracy: 0.9803\n",
            "Epoch 25/50\n",
            "17/17 [==============================] - 4s 220ms/step - loss: 0.0016 - accuracy: 0.9803 - val_loss: 0.0016 - val_accuracy: 0.9803\n",
            "Epoch 26/50\n",
            "17/17 [==============================] - 4s 264ms/step - loss: 0.0016 - accuracy: 0.9803 - val_loss: 0.0016 - val_accuracy: 0.9803\n",
            "Epoch 27/50\n",
            "17/17 [==============================] - 4s 238ms/step - loss: 0.0016 - accuracy: 0.9803 - val_loss: 0.0016 - val_accuracy: 0.9803\n",
            "Epoch 28/50\n",
            "17/17 [==============================] - 5s 312ms/step - loss: 0.0016 - accuracy: 0.9803 - val_loss: 0.0016 - val_accuracy: 0.9803\n",
            "Epoch 29/50\n",
            "17/17 [==============================] - 4s 221ms/step - loss: 0.0016 - accuracy: 0.9803 - val_loss: 0.0016 - val_accuracy: 0.9803\n",
            "Epoch 30/50\n",
            "17/17 [==============================] - 5s 312ms/step - loss: 0.0016 - accuracy: 0.9803 - val_loss: 0.0016 - val_accuracy: 0.9803\n",
            "Epoch 31/50\n",
            "17/17 [==============================] - 4s 235ms/step - loss: 0.0016 - accuracy: 0.9803 - val_loss: 0.0016 - val_accuracy: 0.9803\n",
            "Epoch 32/50\n",
            "17/17 [==============================] - 3s 199ms/step - loss: 0.0016 - accuracy: 0.9803 - val_loss: 0.0016 - val_accuracy: 0.9803\n",
            "Epoch 33/50\n",
            "17/17 [==============================] - 3s 151ms/step - loss: 0.0016 - accuracy: 0.9803 - val_loss: 0.0016 - val_accuracy: 0.9803\n",
            "Epoch 34/50\n",
            "17/17 [==============================] - 3s 174ms/step - loss: 0.0016 - accuracy: 0.9803 - val_loss: 0.0016 - val_accuracy: 0.9803\n",
            "Epoch 35/50\n",
            "17/17 [==============================] - 4s 217ms/step - loss: 0.0016 - accuracy: 0.9803 - val_loss: 0.0016 - val_accuracy: 0.9803\n",
            "Epoch 36/50\n",
            "17/17 [==============================] - 5s 250ms/step - loss: 0.0016 - accuracy: 0.9803 - val_loss: 0.0016 - val_accuracy: 0.9803\n",
            "Epoch 37/50\n",
            "17/17 [==============================] - 3s 154ms/step - loss: 0.0016 - accuracy: 0.9803 - val_loss: 0.0016 - val_accuracy: 0.9803\n",
            "Epoch 38/50\n",
            "17/17 [==============================] - 4s 215ms/step - loss: 0.0016 - accuracy: 0.9803 - val_loss: 0.0016 - val_accuracy: 0.9803\n",
            "Epoch 39/50\n",
            "17/17 [==============================] - 4s 244ms/step - loss: 0.0016 - accuracy: 0.9803 - val_loss: 0.0016 - val_accuracy: 0.9803\n",
            "Epoch 40/50\n",
            "17/17 [==============================] - 4s 225ms/step - loss: 0.0016 - accuracy: 0.9803 - val_loss: 0.0016 - val_accuracy: 0.9803\n",
            "Epoch 41/50\n",
            "17/17 [==============================] - 3s 162ms/step - loss: 0.0016 - accuracy: 0.9803 - val_loss: 0.0016 - val_accuracy: 0.9803\n",
            "Epoch 42/50\n",
            "17/17 [==============================] - 4s 230ms/step - loss: 0.0016 - accuracy: 0.9803 - val_loss: 0.0016 - val_accuracy: 0.9803\n",
            "Epoch 43/50\n",
            "17/17 [==============================] - 3s 210ms/step - loss: 0.0016 - accuracy: 0.9803 - val_loss: 0.0016 - val_accuracy: 0.9803\n",
            "Epoch 44/50\n",
            "17/17 [==============================] - 3s 199ms/step - loss: 0.0016 - accuracy: 0.9803 - val_loss: 0.0016 - val_accuracy: 0.9803\n",
            "Epoch 45/50\n",
            "17/17 [==============================] - 4s 211ms/step - loss: 0.0016 - accuracy: 0.9803 - val_loss: 0.0016 - val_accuracy: 0.9803\n",
            "Epoch 46/50\n",
            "17/17 [==============================] - 3s 164ms/step - loss: 0.0016 - accuracy: 0.9803 - val_loss: 0.0016 - val_accuracy: 0.9803\n",
            "Epoch 47/50\n",
            "17/17 [==============================] - 4s 217ms/step - loss: 0.0016 - accuracy: 0.9803 - val_loss: 0.0016 - val_accuracy: 0.9803\n",
            "Epoch 48/50\n",
            "17/17 [==============================] - 3s 154ms/step - loss: 0.0016 - accuracy: 0.9803 - val_loss: 0.0016 - val_accuracy: 0.9803\n",
            "Epoch 49/50\n",
            "17/17 [==============================] - 4s 260ms/step - loss: 0.0016 - accuracy: 0.9803 - val_loss: 0.0016 - val_accuracy: 0.9803\n",
            "Epoch 50/50\n",
            "17/17 [==============================] - 4s 216ms/step - loss: 0.0016 - accuracy: 0.9803 - val_loss: 0.0016 - val_accuracy: 0.9803\n"
          ]
        }
      ]
    },
    {
      "cell_type": "code",
      "source": [
        "# Salvar o modelo treinado\n",
        "unet.save(\"glaucoma_unet.h5\")"
      ],
      "metadata": {
        "id": "oVSEFmKuk9pF"
      },
      "execution_count": 20,
      "outputs": []
    },
    {
      "cell_type": "markdown",
      "source": [
        "## Plots\n"
      ],
      "metadata": {
        "id": "x_jCgJobpYOW"
      }
    },
    {
      "cell_type": "code",
      "source": [
        "def plot_training_history(history):\n",
        "    fig, (ax1, ax2) = plt.subplots(1, 2, figsize=(14, 5))\n",
        "\n",
        "    # Plot da loss de treinamento e validação\n",
        "    ax1.plot(history.history['loss'], label='Train')\n",
        "    ax1.plot(history.history['val_loss'], label='Validation')\n",
        "    ax1.set_title('Loss')\n",
        "    ax1.set_xlabel('Epoch')\n",
        "    ax1.set_ylabel('Loss')\n",
        "    ax1.legend()\n",
        "\n",
        "    # Plot da acurácia de treinamento e validação\n",
        "    ax2.plot(history.history['accuracy'], label='Train')\n",
        "    ax2.plot(history.history['val_accuracy'], label='Validation')\n",
        "    ax2.set_title('Accuracy')\n",
        "    ax2.set_xlabel('Epoch')\n",
        "    ax2.set_ylabel('Accuracy')\n",
        "    ax2.legend()\n",
        "\n",
        "    plt.show()"
      ],
      "metadata": {
        "id": "I9MlAWkKpacp"
      },
      "execution_count": 29,
      "outputs": []
    },
    {
      "cell_type": "code",
      "source": [
        "plot_training_history(history)"
      ],
      "metadata": {
        "colab": {
          "base_uri": "https://localhost:8080/",
          "height": 487
        },
        "id": "-qffJ8rOpc5F",
        "outputId": "44c9d997-97eb-419e-cf78-48c8ca00b9c5"
      },
      "execution_count": 30,
      "outputs": [
        {
          "output_type": "display_data",
          "data": {
            "text/plain": [
              "<Figure size 1400x500 with 2 Axes>"
            ],
            "image/png": "[encoded data removed]"
          },
          "metadata": {}
        }
      ]
    },
    {
      "cell_type": "markdown",
      "source": [
        "## Medindo acurácia"
      ],
      "metadata": {
        "id": "eYvNquGInPCx"
      }
    },
    {
      "cell_type": "markdown",
      "source": [
        "### Padrão"
      ],
      "metadata": {
        "id": "xcBJWMmanSvD"
      }
    },
    {
      "cell_type": "code",
      "source": [
        "# Avaliar o modelo no conjunto de validação\n",
        "loss, accuracy = unet.evaluate(val_imgs, val_masks)\n",
        "\n",
        "print(f\"Acurácia no conjunto de validação: {accuracy * 100:.2f}%\")"
      ],
      "metadata": {
        "colab": {
          "base_uri": "https://localhost:8080/"
        },
        "id": "7fQD2FQ7nBiJ",
        "outputId": "d5ff7e3a-a568-44ba-b2ec-afa42635216c"
      },
      "execution_count": 21,
      "outputs": [
        {
          "output_type": "stream",
          "name": "stdout",
          "text": [
            "5/5 [==============================] - 1s 204ms/step - loss: 0.0016 - accuracy: 0.9803\n",
            "Acurácia no conjunto de validação: 98.03%\n"
          ]
        }
      ]
    },
    {
      "cell_type": "markdown",
      "source": [
        "### IoU - Intersection over Union"
      ],
      "metadata": {
        "id": "dvCjlXURnUr7"
      }
    },
    {
      "cell_type": "code",
      "source": [
        "def calculate_iou(y_true, y_pred):\n",
        "    y_true = tf.cast(y_true > 0.5, tf.float32)\n",
        "    y_pred = tf.cast(y_pred > 0.5, tf.float32)\n",
        "    \n",
        "    intersection = tf.reduce_sum(y_true * y_pred)\n",
        "    union = tf.reduce_sum(y_true) + tf.reduce_sum(y_pred) - intersection\n",
        "\n",
        "    epsilon = 1e-6  # Adiciona um pequeno valor para evitar divisão por zero\n",
        "    iou = intersection / (union + epsilon)\n",
        "    return iou\n",
        "\n",
        "def evaluate_iou(model, val_imgs, val_masks):\n",
        "    iou_values = []\n",
        "    \n",
        "    for img, true_mask in zip(val_imgs, val_masks):\n",
        "        img = np.expand_dims(img, axis=0)\n",
        "        pred_mask = model.predict(img)\n",
        "        \n",
        "        iou = calculate_iou(true_mask, pred_mask[0])\n",
        "        iou_values.append(iou)\n",
        "\n",
        "    mean_iou = np.mean(iou_values)\n",
        "    return mean_iou"
      ],
      "metadata": {
        "id": "gUsg5DEDnaDb"
      },
      "execution_count": 24,
      "outputs": []
    },
    {
      "cell_type": "code",
      "source": [
        "mean_iou = evaluate_iou(unet, val_imgs, val_masks)\n",
        "print(f\"Média da IoU no conjunto de validação: {mean_iou:.4f}\")"
      ],
      "metadata": {
        "colab": {
          "base_uri": "https://localhost:8080/"
        },
        "id": "YgCWr3KCnj1S",
        "outputId": "c1372dac-34cc-4635-e247-1843eb28d5e6"
      },
      "execution_count": 25,
      "outputs": [
        {
          "output_type": "stream",
          "name": "stdout",
          "text": [
            "1/1 [==============================] - 1s 1s/step\n",
            "1/1 [==============================] - 0s 22ms/step\n",
            "1/1 [==============================] - 1s 846ms/step\n",
            "1/1 [==============================] - 0s 24ms/step\n",
            "1/1 [==============================] - 1s 808ms/step\n",
            "1/1 [==============================] - 0s 22ms/step\n",
            "1/1 [==============================] - 0s 185ms/step\n",
            "1/1 [==============================] - 0s 21ms/step\n",
            "1/1 [==============================] - 0s 22ms/step\n",
            "1/1 [==============================] - 0s 23ms/step\n",
            "1/1 [==============================] - 0s 21ms/step\n",
            "1/1 [==============================] - 0s 25ms/step\n",
            "1/1 [==============================] - 0s 22ms/step\n",
            "1/1 [==============================] - 0s 20ms/step\n",
            "1/1 [==============================] - 0s 20ms/step\n",
            "1/1 [==============================] - 0s 21ms/step\n",
            "1/1 [==============================] - 0s 20ms/step\n",
            "1/1 [==============================] - 1s 1s/step\n",
            "1/1 [==============================] - 0s 22ms/step\n",
            "1/1 [==============================] - 0s 21ms/step\n",
            "1/1 [==============================] - 0s 21ms/step\n",
            "1/1 [==============================] - 0s 27ms/step\n",
            "1/1 [==============================] - 0s 18ms/step\n",
            "1/1 [==============================] - 0s 20ms/step\n",
            "1/1 [==============================] - 0s 20ms/step\n",
            "1/1 [==============================] - 0s 21ms/step\n",
            "1/1 [==============================] - 0s 19ms/step\n",
            "1/1 [==============================] - 0s 21ms/step\n",
            "1/1 [==============================] - 0s 20ms/step\n",
            "1/1 [==============================] - 0s 24ms/step\n",
            "1/1 [==============================] - 0s 171ms/step\n",
            "1/1 [==============================] - 0s 24ms/step\n",
            "1/1 [==============================] - 0s 21ms/step\n",
            "1/1 [==============================] - 0s 19ms/step\n",
            "1/1 [==============================] - 0s 19ms/step\n",
            "1/1 [==============================] - 0s 28ms/step\n",
            "1/1 [==============================] - 0s 22ms/step\n",
            "1/1 [==============================] - 0s 19ms/step\n",
            "1/1 [==============================] - 0s 18ms/step\n",
            "1/1 [==============================] - 0s 19ms/step\n",
            "1/1 [==============================] - 0s 23ms/step\n",
            "1/1 [==============================] - 0s 21ms/step\n",
            "1/1 [==============================] - 0s 19ms/step\n",
            "1/1 [==============================] - 0s 168ms/step\n",
            "1/1 [==============================] - 0s 20ms/step\n",
            "1/1 [==============================] - 0s 21ms/step\n",
            "1/1 [==============================] - 0s 20ms/step\n",
            "1/1 [==============================] - 0s 25ms/step\n",
            "1/1 [==============================] - 0s 20ms/step\n",
            "1/1 [==============================] - 0s 26ms/step\n",
            "1/1 [==============================] - 0s 20ms/step\n",
            "1/1 [==============================] - 0s 19ms/step\n",
            "1/1 [==============================] - 0s 29ms/step\n",
            "1/1 [==============================] - 0s 20ms/step\n",
            "1/1 [==============================] - 0s 19ms/step\n",
            "1/1 [==============================] - 0s 199ms/step\n",
            "1/1 [==============================] - 0s 22ms/step\n",
            "1/1 [==============================] - 0s 19ms/step\n",
            "1/1 [==============================] - 0s 23ms/step\n",
            "1/1 [==============================] - 0s 19ms/step\n",
            "1/1 [==============================] - 0s 21ms/step\n",
            "1/1 [==============================] - 0s 23ms/step\n",
            "1/1 [==============================] - 0s 19ms/step\n",
            "1/1 [==============================] - 0s 24ms/step\n",
            "1/1 [==============================] - 0s 21ms/step\n",
            "1/1 [==============================] - 0s 22ms/step\n",
            "1/1 [==============================] - 0s 19ms/step\n",
            "1/1 [==============================] - 0s 24ms/step\n",
            "1/1 [==============================] - 0s 21ms/step\n",
            "1/1 [==============================] - 0s 23ms/step\n",
            "1/1 [==============================] - 0s 23ms/step\n",
            "1/1 [==============================] - 0s 19ms/step\n",
            "1/1 [==============================] - 0s 153ms/step\n",
            "1/1 [==============================] - 0s 21ms/step\n",
            "1/1 [==============================] - 0s 43ms/step\n",
            "1/1 [==============================] - 0s 20ms/step\n",
            "1/1 [==============================] - 0s 21ms/step\n",
            "1/1 [==============================] - 0s 29ms/step\n",
            "1/1 [==============================] - 0s 21ms/step\n",
            "1/1 [==============================] - 0s 19ms/step\n",
            "1/1 [==============================] - 0s 21ms/step\n",
            "1/1 [==============================] - 0s 26ms/step\n",
            "1/1 [==============================] - 0s 23ms/step\n",
            "1/1 [==============================] - 0s 22ms/step\n",
            "1/1 [==============================] - 0s 173ms/step\n",
            "1/1 [==============================] - 0s 20ms/step\n",
            "1/1 [==============================] - 0s 26ms/step\n",
            "1/1 [==============================] - 0s 21ms/step\n",
            "1/1 [==============================] - 0s 20ms/step\n",
            "1/1 [==============================] - 0s 20ms/step\n",
            "1/1 [==============================] - 0s 23ms/step\n",
            "1/1 [==============================] - 0s 22ms/step\n",
            "1/1 [==============================] - 0s 35ms/step\n",
            "1/1 [==============================] - 0s 32ms/step\n",
            "1/1 [==============================] - 0s 37ms/step\n",
            "1/1 [==============================] - 0s 30ms/step\n",
            "1/1 [==============================] - 0s 31ms/step\n",
            "1/1 [==============================] - 0s 29ms/step\n",
            "1/1 [==============================] - 0s 28ms/step\n",
            "1/1 [==============================] - 0s 28ms/step\n",
            "1/1 [==============================] - 0s 32ms/step\n",
            "1/1 [==============================] - 0s 28ms/step\n",
            "1/1 [==============================] - 0s 28ms/step\n",
            "1/1 [==============================] - 0s 28ms/step\n",
            "1/1 [==============================] - 0s 31ms/step\n",
            "1/1 [==============================] - 0s 248ms/step\n",
            "1/1 [==============================] - 0s 29ms/step\n",
            "1/1 [==============================] - 0s 45ms/step\n",
            "1/1 [==============================] - 0s 31ms/step\n",
            "1/1 [==============================] - 0s 30ms/step\n",
            "1/1 [==============================] - 0s 30ms/step\n",
            "1/1 [==============================] - 0s 29ms/step\n",
            "1/1 [==============================] - 0s 31ms/step\n",
            "1/1 [==============================] - 0s 286ms/step\n",
            "1/1 [==============================] - 0s 31ms/step\n",
            "1/1 [==============================] - 0s 38ms/step\n",
            "1/1 [==============================] - 0s 35ms/step\n",
            "1/1 [==============================] - 0s 35ms/step\n",
            "1/1 [==============================] - 0s 32ms/step\n",
            "1/1 [==============================] - 0s 34ms/step\n",
            "1/1 [==============================] - 0s 283ms/step\n",
            "1/1 [==============================] - 0s 20ms/step\n",
            "1/1 [==============================] - 0s 20ms/step\n",
            "1/1 [==============================] - 0s 19ms/step\n",
            "1/1 [==============================] - 0s 24ms/step\n",
            "1/1 [==============================] - 0s 19ms/step\n",
            "1/1 [==============================] - 0s 19ms/step\n",
            "1/1 [==============================] - 0s 19ms/step\n",
            "1/1 [==============================] - 0s 24ms/step\n",
            "1/1 [==============================] - 0s 19ms/step\n",
            "Média da IoU no conjunto de validação: 0.0000\n"
          ]
        }
      ]
    },
    {
      "cell_type": "markdown",
      "source": [
        "### Dice"
      ],
      "metadata": {
        "id": "RKlVlm-iotmC"
      }
    },
    {
      "cell_type": "code",
      "source": [
        "def calculate_dice(y_true, y_pred):\n",
        "    y_true = tf.cast(y_true > 0.5, tf.float32)\n",
        "    y_pred = tf.cast(y_pred > 0.5, tf.float32)\n",
        "    \n",
        "    intersection = tf.reduce_sum(y_true * y_pred)\n",
        "    sum_true_pred = tf.reduce_sum(y_true) + tf.reduce_sum(y_pred)\n",
        "\n",
        "    epsilon = 1e-6  # Adiciona um pequeno valor para evitar divisão por zero\n",
        "    dice = 2 * intersection / (sum_true_pred + epsilon)\n",
        "    return dice\n",
        "\n",
        "def evaluate_dice(model, val_imgs, val_masks):\n",
        "    dice_values = []\n",
        "    \n",
        "    for img, true_mask in zip(val_imgs, val_masks):\n",
        "        img = np.expand_dims(img, axis=0)\n",
        "        pred_mask = model.predict(img)\n",
        "        \n",
        "        dice = calculate_dice(true_mask, pred_mask[0])\n",
        "        dice_values.append(dice)\n",
        "\n",
        "    mean_dice = np.mean(dice_values)\n",
        "    return mean_dice"
      ],
      "metadata": {
        "id": "Wnjjn6nLouuT"
      },
      "execution_count": 26,
      "outputs": []
    },
    {
      "cell_type": "code",
      "source": [
        "mean_dice = evaluate_dice(unet, val_imgs, val_masks)\n",
        "print(f\"Média da métrica Dice no conjunto de validação: {mean_dice:.4f}\")"
      ],
      "metadata": {
        "colab": {
          "base_uri": "https://localhost:8080/"
        },
        "id": "LIEgHDF7oyrb",
        "outputId": "41dda08b-1054-413d-9d01-128743577a39"
      },
      "execution_count": 27,
      "outputs": [
        {
          "output_type": "stream",
          "name": "stdout",
          "text": [
            "1/1 [==============================] - 0s 24ms/step\n",
            "1/1 [==============================] - 0s 25ms/step\n",
            "1/1 [==============================] - 0s 19ms/step\n",
            "1/1 [==============================] - 1s 736ms/step\n",
            "1/1 [==============================] - 0s 20ms/step\n",
            "1/1 [==============================] - 1s 834ms/step\n",
            "1/1 [==============================] - 0s 21ms/step\n",
            "1/1 [==============================] - 0s 20ms/step\n",
            "1/1 [==============================] - 0s 19ms/step\n",
            "1/1 [==============================] - 0s 21ms/step\n",
            "1/1 [==============================] - 0s 20ms/step\n",
            "1/1 [==============================] - 0s 20ms/step\n",
            "1/1 [==============================] - 0s 22ms/step\n",
            "1/1 [==============================] - 0s 20ms/step\n",
            "1/1 [==============================] - 0s 22ms/step\n",
            "1/1 [==============================] - 0s 22ms/step\n",
            "1/1 [==============================] - 0s 20ms/step\n",
            "1/1 [==============================] - 1s 1s/step\n",
            "1/1 [==============================] - 0s 20ms/step\n",
            "1/1 [==============================] - 0s 234ms/step\n",
            "1/1 [==============================] - 0s 23ms/step\n",
            "1/1 [==============================] - 0s 20ms/step\n",
            "1/1 [==============================] - 0s 20ms/step\n",
            "1/1 [==============================] - 0s 27ms/step\n",
            "1/1 [==============================] - 0s 22ms/step\n",
            "1/1 [==============================] - 0s 21ms/step\n",
            "1/1 [==============================] - 0s 24ms/step\n",
            "1/1 [==============================] - 0s 20ms/step\n",
            "1/1 [==============================] - 0s 22ms/step\n",
            "1/1 [==============================] - 0s 20ms/step\n",
            "1/1 [==============================] - 0s 22ms/step\n",
            "1/1 [==============================] - 0s 233ms/step\n",
            "1/1 [==============================] - 0s 22ms/step\n",
            "1/1 [==============================] - 0s 23ms/step\n",
            "1/1 [==============================] - 0s 20ms/step\n",
            "1/1 [==============================] - 0s 19ms/step\n",
            "1/1 [==============================] - 0s 18ms/step\n",
            "1/1 [==============================] - 0s 22ms/step\n",
            "1/1 [==============================] - 0s 19ms/step\n",
            "1/1 [==============================] - 0s 23ms/step\n",
            "1/1 [==============================] - 0s 20ms/step\n",
            "1/1 [==============================] - 0s 23ms/step\n",
            "1/1 [==============================] - 0s 21ms/step\n",
            "1/1 [==============================] - 0s 254ms/step\n",
            "1/1 [==============================] - 0s 22ms/step\n",
            "1/1 [==============================] - 0s 25ms/step\n",
            "1/1 [==============================] - 0s 21ms/step\n",
            "1/1 [==============================] - 0s 19ms/step\n",
            "1/1 [==============================] - 0s 21ms/step\n",
            "1/1 [==============================] - 0s 22ms/step\n",
            "1/1 [==============================] - 0s 20ms/step\n",
            "1/1 [==============================] - 0s 22ms/step\n",
            "1/1 [==============================] - 0s 24ms/step\n",
            "1/1 [==============================] - 0s 20ms/step\n",
            "1/1 [==============================] - 0s 21ms/step\n",
            "1/1 [==============================] - 0s 21ms/step\n",
            "1/1 [==============================] - 0s 19ms/step\n",
            "1/1 [==============================] - 0s 20ms/step\n",
            "1/1 [==============================] - 1s 762ms/step\n",
            "1/1 [==============================] - 0s 292ms/step\n",
            "1/1 [==============================] - 0s 30ms/step\n",
            "1/1 [==============================] - 0s 29ms/step\n",
            "1/1 [==============================] - 0s 36ms/step\n",
            "1/1 [==============================] - 0s 28ms/step\n",
            "1/1 [==============================] - 0s 28ms/step\n",
            "1/1 [==============================] - 0s 41ms/step\n",
            "1/1 [==============================] - 0s 30ms/step\n",
            "1/1 [==============================] - 0s 273ms/step\n",
            "1/1 [==============================] - 0s 29ms/step\n",
            "1/1 [==============================] - 0s 33ms/step\n",
            "1/1 [==============================] - 0s 31ms/step\n",
            "1/1 [==============================] - 0s 32ms/step\n",
            "1/1 [==============================] - 0s 29ms/step\n",
            "1/1 [==============================] - 0s 28ms/step\n",
            "1/1 [==============================] - 0s 33ms/step\n",
            "1/1 [==============================] - 0s 230ms/step\n",
            "1/1 [==============================] - 0s 34ms/step\n",
            "1/1 [==============================] - 0s 32ms/step\n",
            "1/1 [==============================] - 0s 32ms/step\n",
            "1/1 [==============================] - 0s 40ms/step\n",
            "1/1 [==============================] - 0s 34ms/step\n",
            "1/1 [==============================] - 0s 31ms/step\n",
            "1/1 [==============================] - 0s 35ms/step\n",
            "1/1 [==============================] - 0s 34ms/step\n",
            "1/1 [==============================] - 0s 29ms/step\n",
            "1/1 [==============================] - 1s 839ms/step\n",
            "1/1 [==============================] - 0s 24ms/step\n",
            "1/1 [==============================] - 0s 177ms/step\n",
            "1/1 [==============================] - 0s 19ms/step\n",
            "1/1 [==============================] - 0s 23ms/step\n",
            "1/1 [==============================] - 0s 21ms/step\n",
            "1/1 [==============================] - 0s 21ms/step\n",
            "1/1 [==============================] - 0s 21ms/step\n",
            "1/1 [==============================] - 0s 22ms/step\n",
            "1/1 [==============================] - 0s 24ms/step\n",
            "1/1 [==============================] - 0s 20ms/step\n",
            "1/1 [==============================] - 0s 21ms/step\n",
            "1/1 [==============================] - 0s 21ms/step\n",
            "1/1 [==============================] - 0s 21ms/step\n",
            "1/1 [==============================] - 0s 22ms/step\n",
            "1/1 [==============================] - 0s 23ms/step\n",
            "1/1 [==============================] - 0s 23ms/step\n",
            "1/1 [==============================] - 0s 21ms/step\n",
            "1/1 [==============================] - 1s 753ms/step\n",
            "1/1 [==============================] - 0s 26ms/step\n",
            "1/1 [==============================] - 1s 820ms/step\n",
            "1/1 [==============================] - 0s 23ms/step\n",
            "1/1 [==============================] - 0s 189ms/step\n",
            "1/1 [==============================] - 0s 22ms/step\n",
            "1/1 [==============================] - 0s 21ms/step\n",
            "1/1 [==============================] - 0s 21ms/step\n",
            "1/1 [==============================] - 0s 21ms/step\n",
            "1/1 [==============================] - 0s 21ms/step\n",
            "1/1 [==============================] - 0s 19ms/step\n",
            "1/1 [==============================] - 0s 22ms/step\n",
            "1/1 [==============================] - 0s 20ms/step\n",
            "1/1 [==============================] - 0s 19ms/step\n",
            "1/1 [==============================] - 0s 19ms/step\n",
            "1/1 [==============================] - 0s 22ms/step\n",
            "1/1 [==============================] - 0s 205ms/step\n",
            "1/1 [==============================] - 0s 21ms/step\n",
            "1/1 [==============================] - 0s 23ms/step\n",
            "1/1 [==============================] - 0s 24ms/step\n",
            "1/1 [==============================] - 0s 22ms/step\n",
            "1/1 [==============================] - 0s 22ms/step\n",
            "1/1 [==============================] - 0s 21ms/step\n",
            "1/1 [==============================] - 0s 24ms/step\n",
            "1/1 [==============================] - 0s 19ms/step\n",
            "1/1 [==============================] - 0s 21ms/step\n",
            "1/1 [==============================] - 0s 19ms/step\n",
            "Média da métrica Dice no conjunto de validação: 0.0000\n"
          ]
        }
      ]
    }
  ]
}